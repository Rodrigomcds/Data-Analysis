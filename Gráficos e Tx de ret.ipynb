{
 "cells": [
  {
   "cell_type": "code",
   "execution_count": 1,
   "id": "1a668ffe",
   "metadata": {},
   "outputs": [],
   "source": [
    "import numpy as np\n",
    "import pandas as pd\n",
    "from pandas_datareader import data as wb\n",
    "import matplotlib.pyplot as plt"
   ]
  },
  {
   "cell_type": "code",
   "execution_count": 10,
   "id": "fc33bb14",
   "metadata": {},
   "outputs": [],
   "source": [
    "tickers = ['PG','MSFT','F','GE']\n",
    "mydata = pd.DataFrame()\n",
    "for t in tickers:\n",
    "    mydata[t] = wb.DataReader(t,data_source = 'yahoo',start='1995-1-1',end='2017-1-1')['Adj Close']"
   ]
  },
  {
   "cell_type": "code",
   "execution_count": 13,
   "id": "0b0749d9",
   "metadata": {},
   "outputs": [
    {
     "data": {
      "text/html": [
       "<div>\n",
       "<style scoped>\n",
       "    .dataframe tbody tr th:only-of-type {\n",
       "        vertical-align: middle;\n",
       "    }\n",
       "\n",
       "    .dataframe tbody tr th {\n",
       "        vertical-align: top;\n",
       "    }\n",
       "\n",
       "    .dataframe thead th {\n",
       "        text-align: right;\n",
       "    }\n",
       "</style>\n",
       "<table border=\"1\" class=\"dataframe\">\n",
       "  <thead>\n",
       "    <tr style=\"text-align: right;\">\n",
       "      <th></th>\n",
       "      <th>PG</th>\n",
       "      <th>MSFT</th>\n",
       "      <th>F</th>\n",
       "      <th>GE</th>\n",
       "    </tr>\n",
       "    <tr>\n",
       "      <th>Date</th>\n",
       "      <th></th>\n",
       "      <th></th>\n",
       "      <th></th>\n",
       "      <th></th>\n",
       "    </tr>\n",
       "  </thead>\n",
       "  <tbody>\n",
       "    <tr>\n",
       "      <th>1995-01-03</th>\n",
       "      <td>8.063844</td>\n",
       "      <td>2.379200</td>\n",
       "      <td>4.380182</td>\n",
       "      <td>32.906105</td>\n",
       "    </tr>\n",
       "    <tr>\n",
       "      <th>1995-01-04</th>\n",
       "      <td>7.999201</td>\n",
       "      <td>2.396494</td>\n",
       "      <td>4.498035</td>\n",
       "      <td>32.906105</td>\n",
       "    </tr>\n",
       "    <tr>\n",
       "      <th>1995-01-05</th>\n",
       "      <td>7.886078</td>\n",
       "      <td>2.356964</td>\n",
       "      <td>4.458749</td>\n",
       "      <td>32.986755</td>\n",
       "    </tr>\n",
       "    <tr>\n",
       "      <th>1995-01-06</th>\n",
       "      <td>7.902243</td>\n",
       "      <td>2.396494</td>\n",
       "      <td>4.458749</td>\n",
       "      <td>32.825474</td>\n",
       "    </tr>\n",
       "    <tr>\n",
       "      <th>1995-01-09</th>\n",
       "      <td>7.869919</td>\n",
       "      <td>2.381670</td>\n",
       "      <td>4.537320</td>\n",
       "      <td>32.502846</td>\n",
       "    </tr>\n",
       "  </tbody>\n",
       "</table>\n",
       "</div>"
      ],
      "text/plain": [
       "                  PG      MSFT         F         GE\n",
       "Date                                               \n",
       "1995-01-03  8.063844  2.379200  4.380182  32.906105\n",
       "1995-01-04  7.999201  2.396494  4.498035  32.906105\n",
       "1995-01-05  7.886078  2.356964  4.458749  32.986755\n",
       "1995-01-06  7.902243  2.396494  4.458749  32.825474\n",
       "1995-01-09  7.869919  2.381670  4.537320  32.502846"
      ]
     },
     "execution_count": 13,
     "metadata": {},
     "output_type": "execute_result"
    }
   ],
   "source": [
    "mydata.head()"
   ]
  },
  {
   "cell_type": "code",
   "execution_count": 12,
   "id": "ee12d461",
   "metadata": {},
   "outputs": [
    {
     "data": {
      "text/html": [
       "<div>\n",
       "<style scoped>\n",
       "    .dataframe tbody tr th:only-of-type {\n",
       "        vertical-align: middle;\n",
       "    }\n",
       "\n",
       "    .dataframe tbody tr th {\n",
       "        vertical-align: top;\n",
       "    }\n",
       "\n",
       "    .dataframe thead th {\n",
       "        text-align: right;\n",
       "    }\n",
       "</style>\n",
       "<table border=\"1\" class=\"dataframe\">\n",
       "  <thead>\n",
       "    <tr style=\"text-align: right;\">\n",
       "      <th></th>\n",
       "      <th>PG</th>\n",
       "      <th>MSFT</th>\n",
       "      <th>F</th>\n",
       "      <th>GE</th>\n",
       "    </tr>\n",
       "    <tr>\n",
       "      <th>Date</th>\n",
       "      <th></th>\n",
       "      <th></th>\n",
       "      <th></th>\n",
       "      <th></th>\n",
       "    </tr>\n",
       "  </thead>\n",
       "  <tbody>\n",
       "    <tr>\n",
       "      <th>2016-12-23</th>\n",
       "      <td>74.139297</td>\n",
       "      <td>58.906750</td>\n",
       "      <td>10.150094</td>\n",
       "      <td>228.091858</td>\n",
       "    </tr>\n",
       "    <tr>\n",
       "      <th>2016-12-27</th>\n",
       "      <td>73.825127</td>\n",
       "      <td>58.943989</td>\n",
       "      <td>10.093072</td>\n",
       "      <td>228.234924</td>\n",
       "    </tr>\n",
       "    <tr>\n",
       "      <th>2016-12-28</th>\n",
       "      <td>73.362648</td>\n",
       "      <td>58.673878</td>\n",
       "      <td>9.979024</td>\n",
       "      <td>226.803955</td>\n",
       "    </tr>\n",
       "    <tr>\n",
       "      <th>2016-12-29</th>\n",
       "      <td>73.606995</td>\n",
       "      <td>58.590034</td>\n",
       "      <td>9.962732</td>\n",
       "      <td>226.875534</td>\n",
       "    </tr>\n",
       "    <tr>\n",
       "      <th>2016-12-30</th>\n",
       "      <td>73.371384</td>\n",
       "      <td>57.882122</td>\n",
       "      <td>9.881271</td>\n",
       "      <td>226.088531</td>\n",
       "    </tr>\n",
       "  </tbody>\n",
       "</table>\n",
       "</div>"
      ],
      "text/plain": [
       "                   PG       MSFT          F          GE\n",
       "Date                                                   \n",
       "2016-12-23  74.139297  58.906750  10.150094  228.091858\n",
       "2016-12-27  73.825127  58.943989  10.093072  228.234924\n",
       "2016-12-28  73.362648  58.673878   9.979024  226.803955\n",
       "2016-12-29  73.606995  58.590034   9.962732  226.875534\n",
       "2016-12-30  73.371384  57.882122   9.881271  226.088531"
      ]
     },
     "execution_count": 12,
     "metadata": {},
     "output_type": "execute_result"
    }
   ],
   "source": [
    "mydata.tail()"
   ]
  },
  {
   "cell_type": "code",
   "execution_count": 14,
   "id": "9e6df6e6",
   "metadata": {},
   "outputs": [
    {
     "data": {
      "text/plain": [
       "PG       8.063844\n",
       "MSFT     2.379200\n",
       "F        4.380182\n",
       "GE      32.906105\n",
       "Name: 1995-01-03 00:00:00, dtype: float64"
      ]
     },
     "execution_count": 14,
     "metadata": {},
     "output_type": "execute_result"
    }
   ],
   "source": [
    "mydata.iloc[0]"
   ]
  },
  {
   "cell_type": "code",
   "execution_count": 15,
   "id": "f1963be2",
   "metadata": {},
   "outputs": [
    {
     "data": {
      "image/png": "[encoded data removed]",
      "text/plain": [
       "<Figure size 1080x432 with 1 Axes>"
      ]
     },
     "metadata": {
      "needs_background": "light"
     },
     "output_type": "display_data"
    }
   ],
   "source": [
    "((mydata/mydata.iloc[0])*100).plot(figsize = (15,6))\n",
    "plt.show()"
   ]
  },
  {
   "cell_type": "code",
   "execution_count": 16,
   "id": "6a82dd92",
   "metadata": {},
   "outputs": [
    {
     "data": {
      "text/html": [
       "<div>\n",
       "<style scoped>\n",
       "    .dataframe tbody tr th:only-of-type {\n",
       "        vertical-align: middle;\n",
       "    }\n",
       "\n",
       "    .dataframe tbody tr th {\n",
       "        vertical-align: top;\n",
       "    }\n",
       "\n",
       "    .dataframe thead th {\n",
       "        text-align: right;\n",
       "    }\n",
       "</style>\n",
       "<table border=\"1\" class=\"dataframe\">\n",
       "  <thead>\n",
       "    <tr style=\"text-align: right;\">\n",
       "      <th></th>\n",
       "      <th>PG</th>\n",
       "      <th>MSFT</th>\n",
       "      <th>F</th>\n",
       "      <th>GE</th>\n",
       "    </tr>\n",
       "    <tr>\n",
       "      <th>Date</th>\n",
       "      <th></th>\n",
       "      <th></th>\n",
       "      <th></th>\n",
       "      <th></th>\n",
       "    </tr>\n",
       "  </thead>\n",
       "  <tbody>\n",
       "    <tr>\n",
       "      <th>1995-01-03</th>\n",
       "      <td>NaN</td>\n",
       "      <td>NaN</td>\n",
       "      <td>NaN</td>\n",
       "      <td>NaN</td>\n",
       "    </tr>\n",
       "    <tr>\n",
       "      <th>1995-01-04</th>\n",
       "      <td>-0.008016</td>\n",
       "      <td>0.007269</td>\n",
       "      <td>0.026906</td>\n",
       "      <td>0.000000</td>\n",
       "    </tr>\n",
       "    <tr>\n",
       "      <th>1995-01-05</th>\n",
       "      <td>-0.014142</td>\n",
       "      <td>-0.016495</td>\n",
       "      <td>-0.008734</td>\n",
       "      <td>0.002451</td>\n",
       "    </tr>\n",
       "    <tr>\n",
       "      <th>1995-01-06</th>\n",
       "      <td>0.002050</td>\n",
       "      <td>0.016771</td>\n",
       "      <td>0.000000</td>\n",
       "      <td>-0.004889</td>\n",
       "    </tr>\n",
       "    <tr>\n",
       "      <th>1995-01-09</th>\n",
       "      <td>-0.004090</td>\n",
       "      <td>-0.006186</td>\n",
       "      <td>0.017622</td>\n",
       "      <td>-0.009829</td>\n",
       "    </tr>\n",
       "  </tbody>\n",
       "</table>\n",
       "</div>"
      ],
      "text/plain": [
       "                  PG      MSFT         F        GE\n",
       "Date                                              \n",
       "1995-01-03       NaN       NaN       NaN       NaN\n",
       "1995-01-04 -0.008016  0.007269  0.026906  0.000000\n",
       "1995-01-05 -0.014142 -0.016495 -0.008734  0.002451\n",
       "1995-01-06  0.002050  0.016771  0.000000 -0.004889\n",
       "1995-01-09 -0.004090 -0.006186  0.017622 -0.009829"
      ]
     },
     "execution_count": 16,
     "metadata": {},
     "output_type": "execute_result"
    }
   ],
   "source": [
    "simpleret = (mydata/mydata.shift(1))-1\n",
    "simpleret.head()"
   ]
  },
  {
   "cell_type": "code",
   "execution_count": 18,
   "id": "ee857834",
   "metadata": {},
   "outputs": [],
   "source": [
    "Ponder = np.array([0.25,0.25,0.25,0.25])"
   ]
  },
  {
   "cell_type": "code",
   "execution_count": 21,
   "id": "d354049f",
   "metadata": {},
   "outputs": [
    {
     "data": {
      "text/plain": [
       "PG      0.125860\n",
       "MSFT    0.195586\n",
       "F       0.119508\n",
       "GE      0.130304\n",
       "dtype: float64"
      ]
     },
     "execution_count": 21,
     "metadata": {},
     "output_type": "execute_result"
    }
   ],
   "source": [
    "anual_ret = simpleret.mean() * 250\n",
    "anual_ret"
   ]
  },
  {
   "cell_type": "code",
   "execution_count": 22,
   "id": "1827cc51",
   "metadata": {},
   "outputs": [
    {
     "data": {
      "text/plain": [
       "0.1428144236531477"
      ]
     },
     "execution_count": 22,
     "metadata": {},
     "output_type": "execute_result"
    }
   ],
   "source": [
    "np.dot(anual_ret,Ponder)"
   ]
  },
  {
   "cell_type": "code",
   "execution_count": 23,
   "id": "5b353654",
   "metadata": {},
   "outputs": [],
   "source": [
    "Ponder2 = np.array([0.35,0.35,0.15,0.15])"
   ]
  },
  {
   "cell_type": "code",
   "execution_count": 24,
   "id": "b6c83460",
   "metadata": {},
   "outputs": [
    {
     "data": {
      "text/plain": [
       "0.14997782147225786"
      ]
     },
     "execution_count": 24,
     "metadata": {},
     "output_type": "execute_result"
    }
   ],
   "source": [
    "np.dot(anual_ret,Ponder2)"
   ]
  },
  {
   "cell_type": "code",
   "execution_count": 42,
   "id": "40e1b39d",
   "metadata": {},
   "outputs": [
    {
     "name": "stdout",
     "output_type": "stream",
     "text": [
      "14.2814%\n",
      "14.9978%\n"
     ]
    }
   ],
   "source": [
    "perc1 = str(round(np.dot(anual_ret,Ponder), 6)*100) + '%'\n",
    "perc2 = str(round(np.dot(anual_ret,Ponder2), 6)*100) + '%'\n",
    "print (perc1)\n",
    "print (perc2)"
   ]
  },
  {
   "cell_type": "code",
   "execution_count": null,
   "id": "aa8cfd6d",
   "metadata": {},
   "outputs": [],
   "source": []
  }
 ],
 "metadata": {
  "kernelspec": {
   "display_name": "Python 3",
   "language": "python",
   "name": "python3"
  },
  "language_info": {
   "codemirror_mode": {
    "name": "ipython",
    "version": 3
   },
   "file_extension": ".py",
   "mimetype": "text/x-python",
   "name": "python",
   "nbconvert_exporter": "python",
   "pygments_lexer": "ipython3",
   "version": "3.8.8"
  }
 },
 "nbformat": 4,
 "nbformat_minor": 5
}
