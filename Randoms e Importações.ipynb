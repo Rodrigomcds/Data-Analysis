{
 "cells": [
  {
   "cell_type": "code",
   "execution_count": 42,
   "id": "9182629f",
   "metadata": {},
   "outputs": [],
   "source": [
    "import random\n",
    "import numpy as np\n"
   ]
  },
  {
   "cell_type": "code",
   "execution_count": 57,
   "id": "f4e52e34",
   "metadata": {},
   "outputs": [],
   "source": [
    "dados = np.random.randint(1,7,(10,14))"
   ]
  },
  {
   "cell_type": "code",
   "execution_count": 58,
   "id": "c26c704b",
   "metadata": {},
   "outputs": [
    {
     "data": {
      "text/plain": [
       "array([[4, 1, 5, 5, 1, 3, 4, 5, 1, 3, 5, 6, 2, 6],\n",
       "       [6, 3, 5, 5, 1, 1, 1, 6, 1, 5, 2, 4, 2, 5],\n",
       "       [3, 2, 1, 3, 2, 4, 4, 6, 4, 6, 4, 3, 1, 3],\n",
       "       [4, 5, 1, 2, 5, 3, 4, 5, 3, 1, 5, 3, 3, 6],\n",
       "       [6, 6, 3, 2, 5, 1, 1, 1, 2, 2, 5, 3, 3, 4],\n",
       "       [1, 3, 1, 2, 1, 6, 3, 2, 1, 3, 4, 5, 3, 3],\n",
       "       [2, 1, 4, 1, 3, 2, 1, 6, 1, 3, 5, 4, 4, 3],\n",
       "       [1, 4, 6, 5, 3, 4, 2, 4, 3, 6, 5, 3, 5, 2],\n",
       "       [5, 4, 5, 4, 1, 4, 2, 6, 2, 6, 6, 1, 3, 6],\n",
       "       [1, 3, 5, 4, 5, 3, 5, 5, 3, 1, 2, 6, 1, 2]])"
      ]
     },
     "execution_count": 58,
     "metadata": {},
     "output_type": "execute_result"
    }
   ],
   "source": [
    "dados"
   ]
  },
  {
   "cell_type": "code",
   "execution_count": null,
   "id": "445cfd3d",
   "metadata": {},
   "outputs": [],
   "source": []
  }
 ],
 "metadata": {
  "kernelspec": {
   "display_name": "Python 3",
   "language": "python",
   "name": "python3"
  },
  "language_info": {
   "codemirror_mode": {
    "name": "ipython",
    "version": 3
   },
   "file_extension": ".py",
   "mimetype": "text/x-python",
   "name": "python",
   "nbconvert_exporter": "python",
   "pygments_lexer": "ipython3",
   "version": "3.8.8"
  }
 },
 "nbformat": 4,
 "nbformat_minor": 5
}
