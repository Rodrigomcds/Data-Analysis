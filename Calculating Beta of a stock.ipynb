{
 "cells": [
  {
   "cell_type": "code",
   "execution_count": 35,
   "id": "d38c3750",
   "metadata": {},
   "outputs": [],
   "source": [
    "import numpy as np\n",
    "import pandas as pd\n",
    "from pandas_datareader import data as wb\n",
    "\n",
    "comparsheet = ['WEGE3.SA','^BVSP','OIBR3.SA','MGLU3.SA']\n",
    "data = pd.DataFrame()\n",
    "for t in comparsheet:\n",
    "    data[t] = wb.DataReader(t, data_source = 'yahoo', start = '2016-01-01',end = '2021-01-01')['Adj Close']"
   ]
  },
  {
   "cell_type": "markdown",
   "id": "63f9aa11",
   "metadata": {},
   "source": [
    "To find the Beta of a stock, u need at lest 5 years"
   ]
  },
  {
   "cell_type": "code",
   "execution_count": 36,
   "id": "75880260",
   "metadata": {},
   "outputs": [],
   "source": [
    "sec_ret_log = np.log(data/data.shift(1))"
   ]
  },
  {
   "cell_type": "code",
   "execution_count": 37,
   "id": "727bff09",
   "metadata": {},
   "outputs": [
    {
     "data": {
      "text/html": [
       "<div>\n",
       "<style scoped>\n",
       "    .dataframe tbody tr th:only-of-type {\n",
       "        vertical-align: middle;\n",
       "    }\n",
       "\n",
       "    .dataframe tbody tr th {\n",
       "        vertical-align: top;\n",
       "    }\n",
       "\n",
       "    .dataframe thead th {\n",
       "        text-align: right;\n",
       "    }\n",
       "</style>\n",
       "<table border=\"1\" class=\"dataframe\">\n",
       "  <thead>\n",
       "    <tr style=\"text-align: right;\">\n",
       "      <th></th>\n",
       "      <th>WEGE3.SA</th>\n",
       "      <th>^BVSP</th>\n",
       "      <th>OIBR3.SA</th>\n",
       "      <th>MGLU3.SA</th>\n",
       "    </tr>\n",
       "  </thead>\n",
       "  <tbody>\n",
       "    <tr>\n",
       "      <th>WEGE3.SA</th>\n",
       "      <td>0.133147</td>\n",
       "      <td>0.060877</td>\n",
       "      <td>0.044298</td>\n",
       "      <td>0.077634</td>\n",
       "    </tr>\n",
       "    <tr>\n",
       "      <th>^BVSP</th>\n",
       "      <td>0.060877</td>\n",
       "      <td>0.079664</td>\n",
       "      <td>0.060665</td>\n",
       "      <td>0.093137</td>\n",
       "    </tr>\n",
       "    <tr>\n",
       "      <th>OIBR3.SA</th>\n",
       "      <td>0.044298</td>\n",
       "      <td>0.060665</td>\n",
       "      <td>0.561772</td>\n",
       "      <td>0.073514</td>\n",
       "    </tr>\n",
       "    <tr>\n",
       "      <th>MGLU3.SA</th>\n",
       "      <td>0.077634</td>\n",
       "      <td>0.093137</td>\n",
       "      <td>0.073514</td>\n",
       "      <td>0.378300</td>\n",
       "    </tr>\n",
       "  </tbody>\n",
       "</table>\n",
       "</div>"
      ],
      "text/plain": [
       "          WEGE3.SA     ^BVSP  OIBR3.SA  MGLU3.SA\n",
       "WEGE3.SA  0.133147  0.060877  0.044298  0.077634\n",
       "^BVSP     0.060877  0.079664  0.060665  0.093137\n",
       "OIBR3.SA  0.044298  0.060665  0.561772  0.073514\n",
       "MGLU3.SA  0.077634  0.093137  0.073514  0.378300"
      ]
     },
     "execution_count": 37,
     "metadata": {},
     "output_type": "execute_result"
    }
   ],
   "source": [
    "cov = sec_ret_log.cov() * 250\n",
    "cov"
   ]
  },
  {
   "cell_type": "code",
   "execution_count": 38,
   "id": "f527a87e",
   "metadata": {},
   "outputs": [
    {
     "data": {
      "text/plain": [
       "0.06087748812089089"
      ]
     },
     "execution_count": 38,
     "metadata": {},
     "output_type": "execute_result"
    }
   ],
   "source": [
    "cov_weg_ibo = cov.iloc[0,1]\n",
    "cov_weg_ibo"
   ]
  },
  {
   "cell_type": "code",
   "execution_count": 39,
   "id": "69923b8b",
   "metadata": {},
   "outputs": [
    {
     "data": {
      "text/plain": [
       "0.07966362549135553"
      ]
     },
     "execution_count": 39,
     "metadata": {},
     "output_type": "execute_result"
    }
   ],
   "source": [
    "market_br_var = sec_ret_log['^BVSP'].var() * 250\n",
    "market_br_var"
   ]
  },
  {
   "cell_type": "markdown",
   "id": "70b01ec9",
   "metadata": {},
   "source": [
    "Beta = Cov between market_br_var(IBOVESPA) and WEGE.SA(Stock) / market_br_var"
   ]
  },
  {
   "cell_type": "code",
   "execution_count": 41,
   "id": "459294eb",
   "metadata": {},
   "outputs": [
    {
     "data": {
      "text/plain": [
       "0.7641817422368862"
      ]
     },
     "execution_count": 41,
     "metadata": {},
     "output_type": "execute_result"
    }
   ],
   "source": [
    "beta1 = cov_weg_ibo/market_br_var\n",
    "beta1"
   ]
  },
  {
   "cell_type": "raw",
   "id": "027ce3d6",
   "metadata": {},
   "source": [
    "Beta > 0 and < 1 means a defensive stock (loses less then the market when this last one is losing)\n",
    "Beta > 1 means an agressive stock (earn more when the market is good and lose more when is going down)"
   ]
  },
  {
   "cell_type": "code",
   "execution_count": 42,
   "id": "cd36a174",
   "metadata": {},
   "outputs": [
    {
     "data": {
      "text/plain": [
       "0.060665204471976784"
      ]
     },
     "execution_count": 42,
     "metadata": {},
     "output_type": "execute_result"
    }
   ],
   "source": [
    "cov_oi_ibo = cov.iloc[1,2]\n",
    "cov_oi_ibo"
   ]
  },
  {
   "cell_type": "code",
   "execution_count": 43,
   "id": "d4bd12c2",
   "metadata": {},
   "outputs": [
    {
     "data": {
      "text/plain": [
       "0.7615169922006587"
      ]
     },
     "execution_count": 43,
     "metadata": {},
     "output_type": "execute_result"
    }
   ],
   "source": [
    "beta2 = cov_oi_ibo/market_br_var\n",
    "beta2"
   ]
  },
  {
   "cell_type": "code",
   "execution_count": 44,
   "id": "214af92a",
   "metadata": {},
   "outputs": [
    {
     "data": {
      "text/plain": [
       "0.09313696546023588"
      ]
     },
     "execution_count": 44,
     "metadata": {},
     "output_type": "execute_result"
    }
   ],
   "source": [
    "cov_mglu_ibo = cov.iloc[1,3]\n",
    "cov_mglu_ibo"
   ]
  },
  {
   "cell_type": "code",
   "execution_count": 45,
   "id": "f7245f8f",
   "metadata": {},
   "outputs": [
    {
     "data": {
      "text/plain": [
       "1.169127878448645"
      ]
     },
     "execution_count": 45,
     "metadata": {},
     "output_type": "execute_result"
    }
   ],
   "source": [
    "beta3 = cov_mglu_ibo/market_br_var\n",
    "beta3"
   ]
  },
  {
   "cell_type": "code",
   "execution_count": 84,
   "id": "44511774",
   "metadata": {},
   "outputs": [
    {
     "data": {
      "text/html": [
       "<div>\n",
       "<style scoped>\n",
       "    .dataframe tbody tr th:only-of-type {\n",
       "        vertical-align: middle;\n",
       "    }\n",
       "\n",
       "    .dataframe tbody tr th {\n",
       "        vertical-align: top;\n",
       "    }\n",
       "\n",
       "    .dataframe thead th {\n",
       "        text-align: right;\n",
       "    }\n",
       "</style>\n",
       "<table border=\"1\" class=\"dataframe\">\n",
       "  <thead>\n",
       "    <tr style=\"text-align: right;\">\n",
       "      <th></th>\n",
       "      <th>BetaWeg</th>\n",
       "      <th>BetaOi</th>\n",
       "      <th>BetaMglu</th>\n",
       "    </tr>\n",
       "  </thead>\n",
       "  <tbody>\n",
       "    <tr>\n",
       "      <th>Betas</th>\n",
       "      <td>0.764182</td>\n",
       "      <td>0.761517</td>\n",
       "      <td>1.169128</td>\n",
       "    </tr>\n",
       "  </tbody>\n",
       "</table>\n",
       "</div>"
      ],
      "text/plain": [
       "        BetaWeg    BetaOi  BetaMglu\n",
       "Betas  0.764182  0.761517  1.169128"
      ]
     },
     "execution_count": 84,
     "metadata": {},
     "output_type": "execute_result"
    }
   ],
   "source": [
    "lista = [[beta1,beta2,beta3]]\n",
    "tabBeta = pd.DataFrame(data = lista, index = ['Betas'], columns = ['BetaWeg','BetaOi','BetaMglu'])\n",
    "tabBeta"
   ]
  },
  {
   "cell_type": "code",
   "execution_count": null,
   "id": "7ead9cf5",
   "metadata": {},
   "outputs": [],
   "source": []
  }
 ],
 "metadata": {
  "kernelspec": {
   "display_name": "Python 3",
   "language": "python",
   "name": "python3"
  },
  "language_info": {
   "codemirror_mode": {
    "name": "ipython",
    "version": 3
   },
   "file_extension": ".py",
   "mimetype": "text/x-python",
   "name": "python",
   "nbconvert_exporter": "python",
   "pygments_lexer": "ipython3",
   "version": "3.8.8"
  }
 },
 "nbformat": 4,
 "nbformat_minor": 5
}
